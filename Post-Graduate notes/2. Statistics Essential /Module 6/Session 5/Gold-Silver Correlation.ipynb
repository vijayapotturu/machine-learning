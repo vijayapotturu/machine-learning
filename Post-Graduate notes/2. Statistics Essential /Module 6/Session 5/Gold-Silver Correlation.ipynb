{
 "cells": [
  {
   "cell_type": "code",
   "execution_count": 1,
   "metadata": {},
   "outputs": [
    {
     "name": "stdout",
     "output_type": "stream",
     "text": [
      "(241, 3)\n"
     ]
    }
   ],
   "source": [
    "import numpy as np\n",
    "import pandas as pd\n",
    "import matplotlib.pyplot as plt\n",
    "import seaborn as sns\n",
    "import datetime as dt\n",
    "\n",
    "sns.set(style=\"white\")\n",
    "\n",
    "gs_df = pd.read_csv('EDA_Gold_Silver_prices.csv')\n",
    "\n",
    "print(gs_df.shape)"
   ]
  },
  {
   "cell_type": "code",
   "execution_count": 2,
   "metadata": {},
   "outputs": [
    {
     "name": "stdout",
     "output_type": "stream",
     "text": [
      "<class 'pandas.core.frame.DataFrame'>\n",
      "RangeIndex: 241 entries, 0 to 240\n",
      "Data columns (total 3 columns):\n",
      "Month          241 non-null object\n",
      "SilverPrice    241 non-null float64\n",
      "GoldPrice      241 non-null float64\n",
      "dtypes: float64(2), object(1)\n",
      "memory usage: 5.7+ KB\n"
     ]
    }
   ],
   "source": [
    "gs_df.info()"
   ]
  },
  {
   "cell_type": "code",
   "execution_count": 3,
   "metadata": {},
   "outputs": [
    {
     "data": {
      "text/html": [
       "<div>\n",
       "<style scoped>\n",
       "    .dataframe tbody tr th:only-of-type {\n",
       "        vertical-align: middle;\n",
       "    }\n",
       "\n",
       "    .dataframe tbody tr th {\n",
       "        vertical-align: top;\n",
       "    }\n",
       "\n",
       "    .dataframe thead th {\n",
       "        text-align: right;\n",
       "    }\n",
       "</style>\n",
       "<table border=\"1\" class=\"dataframe\">\n",
       "  <thead>\n",
       "    <tr style=\"text-align: right;\">\n",
       "      <th></th>\n",
       "      <th>Month</th>\n",
       "      <th>SilverPrice</th>\n",
       "      <th>GoldPrice</th>\n",
       "    </tr>\n",
       "  </thead>\n",
       "  <tbody>\n",
       "    <tr>\n",
       "      <th>236</th>\n",
       "      <td>Nov-16</td>\n",
       "      <td>1175.45</td>\n",
       "      <td>83622.54</td>\n",
       "    </tr>\n",
       "    <tr>\n",
       "      <th>237</th>\n",
       "      <td>Dec-16</td>\n",
       "      <td>1115.72</td>\n",
       "      <td>78583.48</td>\n",
       "    </tr>\n",
       "    <tr>\n",
       "      <th>238</th>\n",
       "      <td>Jan-17</td>\n",
       "      <td>1151.15</td>\n",
       "      <td>81191.05</td>\n",
       "    </tr>\n",
       "    <tr>\n",
       "      <th>239</th>\n",
       "      <td>Feb-17</td>\n",
       "      <td>1203.35</td>\n",
       "      <td>82818.17</td>\n",
       "    </tr>\n",
       "    <tr>\n",
       "      <th>240</th>\n",
       "      <td>Mar-17</td>\n",
       "      <td>1162.15</td>\n",
       "      <td>81169.45</td>\n",
       "    </tr>\n",
       "  </tbody>\n",
       "</table>\n",
       "</div>"
      ],
      "text/plain": [
       "      Month  SilverPrice  GoldPrice\n",
       "236  Nov-16      1175.45   83622.54\n",
       "237  Dec-16      1115.72   78583.48\n",
       "238  Jan-17      1151.15   81191.05\n",
       "239  Feb-17      1203.35   82818.17\n",
       "240  Mar-17      1162.15   81169.45"
      ]
     },
     "execution_count": 3,
     "metadata": {},
     "output_type": "execute_result"
    }
   ],
   "source": [
    "gs_df.tail()"
   ]
  },
  {
   "cell_type": "code",
   "execution_count": 4,
   "metadata": {},
   "outputs": [
    {
     "name": "stdout",
     "output_type": "stream",
     "text": [
      "2018-10-25\n"
     ]
    }
   ],
   "source": [
    "print(dt.date.today())"
   ]
  },
  {
   "cell_type": "code",
   "execution_count": 5,
   "metadata": {},
   "outputs": [
    {
     "data": {
      "text/plain": [
       "0.9542559570539775"
      ]
     },
     "execution_count": 5,
     "metadata": {},
     "output_type": "execute_result"
    }
   ],
   "source": [
    "# What is the correlation in Gold and Silver prices (round off the answer to two decimal places)?\n",
    "# Also, enter a fraction, not a percentage (e.g. 0.34, not 34.00%).\n",
    "\n",
    "gs_df['GoldPrice'].corr(gs_df['SilverPrice'])"
   ]
  },
  {
   "cell_type": "code",
   "execution_count": 6,
   "metadata": {},
   "outputs": [
    {
     "name": "stdout",
     "output_type": "stream",
     "text": [
      "<class 'pandas.core.frame.DataFrame'>\n",
      "RangeIndex: 241 entries, 0 to 240\n",
      "Data columns (total 5 columns):\n",
      "Month          241 non-null object\n",
      "SilverPrice    241 non-null float64\n",
      "GoldPrice      241 non-null float64\n",
      "month          241 non-null object\n",
      "year           241 non-null int64\n",
      "dtypes: float64(2), int64(1), object(2)\n",
      "memory usage: 9.5+ KB\n"
     ]
    }
   ],
   "source": [
    "# What is the correlation in Gold and Silver prices for the years 2008(nearest two decimal places )?\n",
    "\n",
    "d = dt.datetime.strptime('Jan-17', '%b-%y')\n",
    "d.strftime('%b ,%Y')\n",
    "#gs_df['Month'].map(lambda x : dt.datetime.strftime(x, '%b-%y'))\n",
    "gs_df['month'] = gs_df['Month'].apply(lambda x : x.split('-')[0])\n",
    "gs_df['year'] = gs_df['Month'].apply(lambda x : (int)(\"19\"+x.split('-')[1]) if (int)(x.split('-')[1]) > 90 else (int)(\"20\"+x.split('-')[1]))\n",
    "\n",
    "gs_df.head()\n",
    "gs_df.info()\n"
   ]
  },
  {
   "cell_type": "code",
   "execution_count": 7,
   "metadata": {},
   "outputs": [
    {
     "data": {
      "text/plain": [
       "0.009583757463369392"
      ]
     },
     "execution_count": 7,
     "metadata": {},
     "output_type": "execute_result"
    }
   ],
   "source": [
    "gs_df_2008=gs_df[gs_df['year'] == 2008]\n",
    "gs_df_2008['GoldPrice'].corr(gs_df_2008['SilverPrice'])"
   ]
  },
  {
   "cell_type": "code",
   "execution_count": 20,
   "metadata": {},
   "outputs": [
    {
     "data": {
      "text/plain": [
       "<matplotlib.axes._subplots.AxesSubplot at 0x1193358d0>"
      ]
     },
     "execution_count": 20,
     "metadata": {},
     "output_type": "execute_result"
    },
    {
     "data": {
      "text/plain": [
       "<Figure size 1440x1152 with 0 Axes>"
      ]
     },
     "metadata": {},
     "output_type": "display_data"
    },
    {
     "data": {
      "image/png": "[encoded data removed]",
      "text/plain": [
       "<Figure size 432x288 with 1 Axes>"
      ]
     },
     "metadata": {},
     "output_type": "display_data"
    }
   ],
   "source": [
    "plt.figure(figsize=(20, 16))\n",
    "g_by = gs_df.groupby('year')\n",
    "gs_df.groupby('year')[['GoldPrice','SilverPrice']].corr().plot()\n",
    "#plt.scatter(y='GoldPrice', x='year', data=gs_df)\n",
    "#plt.xlabel('Silver Price')\n",
    "#plt.ylabel('Gold Price')\n",
    "#plt.title(\"India Silver/Gold Price\")"
   ]
  },
  {
   "cell_type": "code",
   "execution_count": null,
   "metadata": {},
   "outputs": [],
   "source": []
  },
  {
   "cell_type": "code",
   "execution_count": null,
   "metadata": {},
   "outputs": [],
   "source": []
  }
 ],
 "metadata": {
  "kernelspec": {
   "display_name": "Python 3",
   "language": "python",
   "name": "python3"
  },
  "language_info": {
   "codemirror_mode": {
    "name": "ipython",
    "version": 3
   },
   "file_extension": ".py",
   "mimetype": "text/x-python",
   "name": "python",
   "nbconvert_exporter": "python",
   "pygments_lexer": "ipython3",
   "version": "3.6.5"
  }
 },
 "nbformat": 4,
 "nbformat_minor": 2
}
