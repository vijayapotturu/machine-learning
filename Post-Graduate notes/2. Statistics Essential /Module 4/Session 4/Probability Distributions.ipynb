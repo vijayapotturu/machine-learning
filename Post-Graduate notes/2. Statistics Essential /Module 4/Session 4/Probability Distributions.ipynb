{
 "cells": [
  {
   "cell_type": "markdown",
   "metadata": {},
   "source": [
    "### Recall that, in our UpGrad game example, we need to find out if the game would be profitable for the players or for us (i.e. the house) in the long run. The three-step process for this is:\n",
    "\n",
    "- Find all the possible combinations\n",
    "\n",
    "- Find the probability of each combination\n",
    "\n",
    "- Use the probabilities to estimate the profit/loss per player"
   ]
  },
  {
   "cell_type": "code",
   "execution_count": 1,
   "metadata": {},
   "outputs": [],
   "source": [
    "totalOutcome = 75\n",
    "outcomeof2RedBalls = 26\n",
    "outcomeof3RedBalls = 25"
   ]
  },
  {
   "cell_type": "code",
   "execution_count": 2,
   "metadata": {},
   "outputs": [
    {
     "name": "stdout",
     "output_type": "stream",
     "text": [
      "0.35\n"
     ]
    }
   ],
   "source": [
    "# P(X=2)\n",
    "probabilityOf2RedBalls = outcomeof2RedBalls/totalOutcome\n",
    "print(round(probabilityOf2RedBalls,2))"
   ]
  },
  {
   "cell_type": "code",
   "execution_count": 3,
   "metadata": {},
   "outputs": [
    {
     "name": "stdout",
     "output_type": "stream",
     "text": [
      "0.33\n"
     ]
    }
   ],
   "source": [
    "# P(X=3)\n",
    "probabilityOf3RedBalls = outcomeof3RedBalls/totalOutcome\n",
    "print(round(probabilityOf3RedBalls,2))"
   ]
  },
  {
   "cell_type": "markdown",
   "metadata": {},
   "source": [
    "- In a valid, complete probability distribution, there are `no negative values`, and the total of `all probability values adds up to 1`. These two conclusions follow from the basic definition of probability."
   ]
  },
  {
   "cell_type": "code",
   "execution_count": 12,
   "metadata": {},
   "outputs": [
    {
     "name": "stdout",
     "output_type": "stream",
     "text": [
      "2385.0\n"
     ]
    }
   ],
   "source": [
    "# Suppose 1,000 people play this game. What is the total number of red balls that you can expect them to take out?\n",
    "totalPeoplePlaying = 1000;\n",
    "listOfProbability = [0.027, 0.160, 0.347, 0.333, 0.133]\n",
    "totalNumberOfRedBalls = map(lambda x : x*totalPeoplePlaying*listOfProbability.index(x), listOfProbability)\n",
    "print(sum(list(totalNumberOfRedBalls)))"
   ]
  },
  {
   "cell_type": "markdown",
   "metadata": {},
   "source": [
    "### Expected Value\n",
    "# Now, can you calculate the expected value of X (where X is the money won by the player after playing the game once)?\n",
    "\n",
    "\n",
    "X (Money won after playing once)\tProbability\n",
    "            +150\t                0.133\n",
    "            -10\t                    0.867\n",
    "\n"
   ]
  },
  {
   "cell_type": "code",
   "execution_count": 15,
   "metadata": {},
   "outputs": [
    {
     "name": "stdout",
     "output_type": "stream",
     "text": [
      "11.28\n"
     ]
    }
   ],
   "source": [
    "expectedValue = 150*0.133 -10*0.867\n",
    "print(round(expectedValue,2))"
   ]
  },
  {
   "cell_type": "code",
   "execution_count": 16,
   "metadata": {},
   "outputs": [
    {
     "name": "stdout",
     "output_type": "stream",
     "text": [
      "-1.72\n"
     ]
    }
   ],
   "source": [
    "#So, the expected value of a player’s winnings is positive, but we want to make it negative.\n",
    "# Which of the following changes to the game would make the expected value negative?\n",
    "\n",
    "# penality is -25 instead of -10\n",
    "expectedValue = 150*0.133 -25*0.867\n",
    "print(round(expectedValue,2))"
   ]
  },
  {
   "cell_type": "code",
   "execution_count": 17,
   "metadata": {},
   "outputs": [
    {
     "name": "stdout",
     "output_type": "stream",
     "text": [
      "3.3\n"
     ]
    }
   ],
   "source": [
    "# prize money is 90\n",
    "\n",
    "expectedValue = 90*0.133 -10*0.867\n",
    "print(round(expectedValue,2))"
   ]
  },
  {
   "cell_type": "code",
   "execution_count": 21,
   "metadata": {},
   "outputs": [
    {
     "name": "stdout",
     "output_type": "stream",
     "text": [
      "7.5\n"
     ]
    }
   ],
   "source": [
    "listOfProbability = [0.027*-150, 0.160*-10, 0.347*-10, 0.333*-10, 0.133*150]\n",
    "print(round(sum(listOfProbability),2))"
   ]
  }
 ],
 "metadata": {
  "kernelspec": {
   "display_name": "Python 3",
   "language": "python",
   "name": "python3"
  },
  "language_info": {
   "codemirror_mode": {
    "name": "ipython",
    "version": 3
   },
   "file_extension": ".py",
   "mimetype": "text/x-python",
   "name": "python",
   "nbconvert_exporter": "python",
   "pygments_lexer": "ipython3",
   "version": "3.6.5"
  }
 },
 "nbformat": 4,
 "nbformat_minor": 2
}
